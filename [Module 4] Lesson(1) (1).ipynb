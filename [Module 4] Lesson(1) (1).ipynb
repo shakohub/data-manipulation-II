{
 "cells": [
  {
   "cell_type": "markdown",
   "metadata": {},
   "source": [
    "# Module 4 - Data Manipulation pt. 2 "
   ]
  },
  {
   "cell_type": "code",
   "execution_count": 2,
   "metadata": {},
   "outputs": [],
   "source": [
    "# import data analysis libraries #\n",
    "\n",
    "import pandas as pd\n",
    "import numpy as np"
   ]
  },
  {
   "cell_type": "markdown",
   "metadata": {},
   "source": [
    "## String Manipulation \n",
    "\n",
    "Find more documentation here: \n",
    "* https://www.tutorialspoint.com/python_pandas/python_pandas_working_with_text_data.htm\n",
    "* https://pandas.pydata.org/pandas-docs/stable/user_guide/text.html"
   ]
  },
  {
   "cell_type": "markdown",
   "metadata": {},
   "source": [
    "### Let's work with the Titanic dataset this week! \n",
    "\n",
    "    * pclass = passenger class; 1 = first class, 2 = second class, 3 = third class\n",
    "    * survived = passenger survival; 1 = survived, 0 = did not survive\n",
    "    * name = passenger name\n",
    "    * sex = sex of passenger\n",
    "    * age = age of passenger\n",
    "    * sibsp = # of siblings / spouses aboard the Titanic\n",
    "    * parch = # of parents / children aboard the Titanic\n",
    "    * ticket = ticket number\n",
    "    * fare = fare paid by passenger\n",
    "    * cabin = passenger cabin\n",
    "    * embarked = port of embarkation; C = Cherbourg, Q = Queenstown, S = Southampton\n",
    "    * boat = lifeboat assignment \n",
    "    * body = recovered body number\n",
    "    * home dest = anticipated home destination "
   ]
  },
  {
   "cell_type": "code",
   "execution_count": 4,
   "metadata": {},
   "outputs": [
    {
     "data": {
      "text/html": [
       "<div>\n",
       "<style scoped>\n",
       "    .dataframe tbody tr th:only-of-type {\n",
       "        vertical-align: middle;\n",
       "    }\n",
       "\n",
       "    .dataframe tbody tr th {\n",
       "        vertical-align: top;\n",
       "    }\n",
       "\n",
       "    .dataframe thead th {\n",
       "        text-align: right;\n",
       "    }\n",
       "</style>\n",
       "<table border=\"1\" class=\"dataframe\">\n",
       "  <thead>\n",
       "    <tr style=\"text-align: right;\">\n",
       "      <th></th>\n",
       "      <th>pclass</th>\n",
       "      <th>survived</th>\n",
       "      <th>name</th>\n",
       "      <th>sex</th>\n",
       "      <th>age</th>\n",
       "      <th>sibsp</th>\n",
       "      <th>parch</th>\n",
       "      <th>ticket</th>\n",
       "      <th>fare</th>\n",
       "      <th>cabin</th>\n",
       "      <th>embarked</th>\n",
       "      <th>boat</th>\n",
       "      <th>body</th>\n",
       "      <th>home.dest</th>\n",
       "    </tr>\n",
       "  </thead>\n",
       "  <tbody>\n",
       "    <tr>\n",
       "      <td>0</td>\n",
       "      <td>1</td>\n",
       "      <td>1</td>\n",
       "      <td>Allen, Miss. Elisabeth Walton</td>\n",
       "      <td>female</td>\n",
       "      <td>29.0000</td>\n",
       "      <td>0</td>\n",
       "      <td>0</td>\n",
       "      <td>24160</td>\n",
       "      <td>211.3375</td>\n",
       "      <td>B5</td>\n",
       "      <td>S</td>\n",
       "      <td>2</td>\n",
       "      <td>NaN</td>\n",
       "      <td>St Louis, MO</td>\n",
       "    </tr>\n",
       "    <tr>\n",
       "      <td>1</td>\n",
       "      <td>1</td>\n",
       "      <td>1</td>\n",
       "      <td>Allison, Master. Hudson Trevor</td>\n",
       "      <td>male</td>\n",
       "      <td>0.9167</td>\n",
       "      <td>1</td>\n",
       "      <td>2</td>\n",
       "      <td>113781</td>\n",
       "      <td>151.5500</td>\n",
       "      <td>C22 C26</td>\n",
       "      <td>S</td>\n",
       "      <td>11</td>\n",
       "      <td>NaN</td>\n",
       "      <td>Montreal, PQ / Chesterville, ON</td>\n",
       "    </tr>\n",
       "    <tr>\n",
       "      <td>2</td>\n",
       "      <td>1</td>\n",
       "      <td>0</td>\n",
       "      <td>Allison, Miss. Helen Loraine</td>\n",
       "      <td>female</td>\n",
       "      <td>2.0000</td>\n",
       "      <td>1</td>\n",
       "      <td>2</td>\n",
       "      <td>113781</td>\n",
       "      <td>151.5500</td>\n",
       "      <td>C22 C26</td>\n",
       "      <td>S</td>\n",
       "      <td>NaN</td>\n",
       "      <td>NaN</td>\n",
       "      <td>Montreal, PQ / Chesterville, ON</td>\n",
       "    </tr>\n",
       "    <tr>\n",
       "      <td>3</td>\n",
       "      <td>1</td>\n",
       "      <td>0</td>\n",
       "      <td>Allison, Mr. Hudson Joshua Creighton</td>\n",
       "      <td>male</td>\n",
       "      <td>30.0000</td>\n",
       "      <td>1</td>\n",
       "      <td>2</td>\n",
       "      <td>113781</td>\n",
       "      <td>151.5500</td>\n",
       "      <td>C22 C26</td>\n",
       "      <td>S</td>\n",
       "      <td>NaN</td>\n",
       "      <td>135.0</td>\n",
       "      <td>Montreal, PQ / Chesterville, ON</td>\n",
       "    </tr>\n",
       "    <tr>\n",
       "      <td>4</td>\n",
       "      <td>1</td>\n",
       "      <td>0</td>\n",
       "      <td>Allison, Mrs. Hudson J C (Bessie Waldo Daniels)</td>\n",
       "      <td>female</td>\n",
       "      <td>25.0000</td>\n",
       "      <td>1</td>\n",
       "      <td>2</td>\n",
       "      <td>113781</td>\n",
       "      <td>151.5500</td>\n",
       "      <td>C22 C26</td>\n",
       "      <td>S</td>\n",
       "      <td>NaN</td>\n",
       "      <td>NaN</td>\n",
       "      <td>Montreal, PQ / Chesterville, ON</td>\n",
       "    </tr>\n",
       "  </tbody>\n",
       "</table>\n",
       "</div>"
      ],
      "text/plain": [
       "   pclass  survived                                             name     sex  \\\n",
       "0       1         1                    Allen, Miss. Elisabeth Walton  female   \n",
       "1       1         1                   Allison, Master. Hudson Trevor    male   \n",
       "2       1         0                     Allison, Miss. Helen Loraine  female   \n",
       "3       1         0             Allison, Mr. Hudson Joshua Creighton    male   \n",
       "4       1         0  Allison, Mrs. Hudson J C (Bessie Waldo Daniels)  female   \n",
       "\n",
       "       age  sibsp  parch  ticket      fare    cabin embarked boat   body  \\\n",
       "0  29.0000      0      0   24160  211.3375       B5        S    2    NaN   \n",
       "1   0.9167      1      2  113781  151.5500  C22 C26        S   11    NaN   \n",
       "2   2.0000      1      2  113781  151.5500  C22 C26        S  NaN    NaN   \n",
       "3  30.0000      1      2  113781  151.5500  C22 C26        S  NaN  135.0   \n",
       "4  25.0000      1      2  113781  151.5500  C22 C26        S  NaN    NaN   \n",
       "\n",
       "                         home.dest  \n",
       "0                     St Louis, MO  \n",
       "1  Montreal, PQ / Chesterville, ON  \n",
       "2  Montreal, PQ / Chesterville, ON  \n",
       "3  Montreal, PQ / Chesterville, ON  \n",
       "4  Montreal, PQ / Chesterville, ON  "
      ]
     },
     "execution_count": 4,
     "metadata": {},
     "output_type": "execute_result"
    }
   ],
   "source": [
    "# import the titanic dataset #\n",
    "\n",
    "df = pd.read_excel(\"titanic.xls\")\n",
    "df.head()"
   ]
  },
  {
   "cell_type": "code",
   "execution_count": 5,
   "metadata": {
    "scrolled": true
   },
   "outputs": [
    {
     "data": {
      "text/html": [
       "<div>\n",
       "<style scoped>\n",
       "    .dataframe tbody tr th:only-of-type {\n",
       "        vertical-align: middle;\n",
       "    }\n",
       "\n",
       "    .dataframe tbody tr th {\n",
       "        vertical-align: top;\n",
       "    }\n",
       "\n",
       "    .dataframe thead th {\n",
       "        text-align: right;\n",
       "    }\n",
       "</style>\n",
       "<table border=\"1\" class=\"dataframe\">\n",
       "  <thead>\n",
       "    <tr style=\"text-align: right;\">\n",
       "      <th></th>\n",
       "      <th>name</th>\n",
       "      <th>cabin</th>\n",
       "      <th>home.dest</th>\n",
       "    </tr>\n",
       "  </thead>\n",
       "  <tbody>\n",
       "    <tr>\n",
       "      <td>0</td>\n",
       "      <td>Allen, Miss. Elisabeth Walton</td>\n",
       "      <td>B5</td>\n",
       "      <td>St Louis, MO</td>\n",
       "    </tr>\n",
       "    <tr>\n",
       "      <td>1</td>\n",
       "      <td>Allison, Master. Hudson Trevor</td>\n",
       "      <td>C22 C26</td>\n",
       "      <td>Montreal, PQ / Chesterville, ON</td>\n",
       "    </tr>\n",
       "    <tr>\n",
       "      <td>2</td>\n",
       "      <td>Allison, Miss. Helen Loraine</td>\n",
       "      <td>C22 C26</td>\n",
       "      <td>Montreal, PQ / Chesterville, ON</td>\n",
       "    </tr>\n",
       "    <tr>\n",
       "      <td>3</td>\n",
       "      <td>Allison, Mr. Hudson Joshua Creighton</td>\n",
       "      <td>C22 C26</td>\n",
       "      <td>Montreal, PQ / Chesterville, ON</td>\n",
       "    </tr>\n",
       "    <tr>\n",
       "      <td>4</td>\n",
       "      <td>Allison, Mrs. Hudson J C (Bessie Waldo Daniels)</td>\n",
       "      <td>C22 C26</td>\n",
       "      <td>Montreal, PQ / Chesterville, ON</td>\n",
       "    </tr>\n",
       "  </tbody>\n",
       "</table>\n",
       "</div>"
      ],
      "text/plain": [
       "                                              name    cabin  \\\n",
       "0                    Allen, Miss. Elisabeth Walton       B5   \n",
       "1                   Allison, Master. Hudson Trevor  C22 C26   \n",
       "2                     Allison, Miss. Helen Loraine  C22 C26   \n",
       "3             Allison, Mr. Hudson Joshua Creighton  C22 C26   \n",
       "4  Allison, Mrs. Hudson J C (Bessie Waldo Daniels)  C22 C26   \n",
       "\n",
       "                         home.dest  \n",
       "0                     St Louis, MO  \n",
       "1  Montreal, PQ / Chesterville, ON  \n",
       "2  Montreal, PQ / Chesterville, ON  \n",
       "3  Montreal, PQ / Chesterville, ON  \n",
       "4  Montreal, PQ / Chesterville, ON  "
      ]
     },
     "execution_count": 5,
     "metadata": {},
     "output_type": "execute_result"
    }
   ],
   "source": [
    "# create a smaller dataset with just the variables of interest #\n",
    "\n",
    "df = df[[\"name\", \"cabin\", \"home.dest\"]]\n",
    "df.head()"
   ]
  },
  {
   "cell_type": "code",
   "execution_count": 6,
   "metadata": {},
   "outputs": [
    {
     "name": "stdout",
     "output_type": "stream",
     "text": [
      "<class 'pandas.core.frame.DataFrame'>\n",
      "RangeIndex: 1309 entries, 0 to 1308\n",
      "Data columns (total 3 columns):\n",
      "name         1309 non-null object\n",
      "cabin        295 non-null object\n",
      "home.dest    745 non-null object\n",
      "dtypes: object(3)\n",
      "memory usage: 30.8+ KB\n"
     ]
    }
   ],
   "source": [
    "# explore the characteristics of the data #\n",
    "\n",
    "df.info()"
   ]
  },
  {
   "cell_type": "markdown",
   "metadata": {},
   "source": [
    "## STRING FREQS AND UNIQUE VALUES"
   ]
  },
  {
   "cell_type": "code",
   "execution_count": 7,
   "metadata": {},
   "outputs": [
    {
     "data": {
      "text/plain": [
       "name         1307\n",
       "cabin         186\n",
       "home.dest     369\n",
       "dtype: int64"
      ]
     },
     "execution_count": 7,
     "metadata": {},
     "output_type": "execute_result"
    }
   ],
   "source": [
    "#### Unique string values\n",
    "\n",
    "df.nunique()"
   ]
  },
  {
   "cell_type": "code",
   "execution_count": 8,
   "metadata": {},
   "outputs": [
    {
     "data": {
      "text/plain": [
       "New York, NY                      64\n",
       "London                            14\n",
       "Montreal, PQ                      10\n",
       "Paris, France                      9\n",
       "Cornwall / Akron, OH               9\n",
       "                                  ..\n",
       "Lake Arthur, Chavez County, NM     1\n",
       "Stockholm, Sweden New York         1\n",
       "Sydney, Australia                  1\n",
       "Janjgir, India / Pennsylvania      1\n",
       "Bergen, Norway                     1\n",
       "Name: home.dest, Length: 369, dtype: int64"
      ]
     },
     "execution_count": 8,
     "metadata": {},
     "output_type": "execute_result"
    }
   ],
   "source": [
    "#### String Frequencies\n",
    "\n",
    "df[\"home.dest\"].value_counts()"
   ]
  },
  {
   "cell_type": "code",
   "execution_count": 9,
   "metadata": {},
   "outputs": [
    {
     "data": {
      "text/plain": [
       "C23 C25 C27        6\n",
       "G6                 5\n",
       "B57 B59 B63 B66    5\n",
       "F2                 4\n",
       "C22 C26            4\n",
       "                  ..\n",
       "B82 B84            1\n",
       "C95                1\n",
       "C53                1\n",
       "A23                1\n",
       "C49                1\n",
       "Name: cabin, Length: 186, dtype: int64"
      ]
     },
     "execution_count": 9,
     "metadata": {},
     "output_type": "execute_result"
    }
   ],
   "source": [
    "df[\"cabin\"].value_counts()"
   ]
  },
  {
   "cell_type": "code",
   "execution_count": 10,
   "metadata": {},
   "outputs": [
    {
     "data": {
      "text/plain": [
       "Connolly, Miss. Kate                          2\n",
       "Kelly, Mr. James                              2\n",
       "Sandstrom, Miss. Marguerite Rut               1\n",
       "Leitch, Miss. Jessie Wills                    1\n",
       "Murdlin, Mr. Joseph                           1\n",
       "                                             ..\n",
       "Strom, Mrs. Wilhelm (Elna Matilda Persson)    1\n",
       "Cacic, Miss. Marija                           1\n",
       "Dodge, Master. Washington                     1\n",
       "Allum, Mr. Owen George                        1\n",
       "Fleming, Miss. Margaret                       1\n",
       "Name: name, Length: 1307, dtype: int64"
      ]
     },
     "execution_count": 10,
     "metadata": {},
     "output_type": "execute_result"
    }
   ],
   "source": [
    "df[\"name\"].value_counts()"
   ]
  },
  {
   "cell_type": "markdown",
   "metadata": {},
   "source": [
    "## WORKING WITH TEXT DATA"
   ]
  },
  {
   "cell_type": "code",
   "execution_count": 11,
   "metadata": {
    "scrolled": true
   },
   "outputs": [
    {
     "data": {
      "text/plain": [
       "0                      Allen, Miss. Elisabeth Walton\n",
       "1                     Allison, Master. Hudson Trevor\n",
       "2                       Allison, Miss. Helen Loraine\n",
       "3               Allison, Mr. Hudson Joshua Creighton\n",
       "4    Allison, Mrs. Hudson J C (Bessie Waldo Daniels)\n",
       "Name: name, dtype: object"
      ]
     },
     "execution_count": 11,
     "metadata": {},
     "output_type": "execute_result"
    }
   ],
   "source": [
    "df[\"name\"].head()"
   ]
  },
  {
   "cell_type": "markdown",
   "metadata": {},
   "source": [
    "### Length of a text string "
   ]
  },
  {
   "cell_type": "code",
   "execution_count": 12,
   "metadata": {
    "scrolled": true
   },
   "outputs": [
    {
     "data": {
      "text/plain": [
       "29"
      ]
     },
     "execution_count": 12,
     "metadata": {},
     "output_type": "execute_result"
    }
   ],
   "source": [
    "#### length of a string\n",
    "# how many characters are in the first passenger name?\n",
    "\n",
    "len(df[\"name\"][0])"
   ]
  },
  {
   "cell_type": "markdown",
   "metadata": {},
   "source": [
    "### Starting & ending with specific characters or strings"
   ]
  },
  {
   "cell_type": "code",
   "execution_count": 13,
   "metadata": {},
   "outputs": [
    {
     "data": {
      "text/plain": [
       "4"
      ]
     },
     "execution_count": 13,
     "metadata": {},
     "output_type": "execute_result"
    }
   ],
   "source": [
    "#### does my string start with a specific character?\n",
    "# how many passengers have the last name \"Allison\"?\n",
    "# last name comes first in the name column \n",
    "\n",
    "df[\"name\"].str.startswith(\"Allison\").sum()"
   ]
  },
  {
   "cell_type": "code",
   "execution_count": 14,
   "metadata": {},
   "outputs": [
    {
     "data": {
      "text/html": [
       "<div>\n",
       "<style scoped>\n",
       "    .dataframe tbody tr th:only-of-type {\n",
       "        vertical-align: middle;\n",
       "    }\n",
       "\n",
       "    .dataframe tbody tr th {\n",
       "        vertical-align: top;\n",
       "    }\n",
       "\n",
       "    .dataframe thead th {\n",
       "        text-align: right;\n",
       "    }\n",
       "</style>\n",
       "<table border=\"1\" class=\"dataframe\">\n",
       "  <thead>\n",
       "    <tr style=\"text-align: right;\">\n",
       "      <th></th>\n",
       "      <th>name</th>\n",
       "      <th>cabin</th>\n",
       "      <th>home.dest</th>\n",
       "    </tr>\n",
       "  </thead>\n",
       "  <tbody>\n",
       "    <tr>\n",
       "      <td>1</td>\n",
       "      <td>Allison, Master. Hudson Trevor</td>\n",
       "      <td>C22 C26</td>\n",
       "      <td>Montreal, PQ / Chesterville, ON</td>\n",
       "    </tr>\n",
       "    <tr>\n",
       "      <td>2</td>\n",
       "      <td>Allison, Miss. Helen Loraine</td>\n",
       "      <td>C22 C26</td>\n",
       "      <td>Montreal, PQ / Chesterville, ON</td>\n",
       "    </tr>\n",
       "    <tr>\n",
       "      <td>3</td>\n",
       "      <td>Allison, Mr. Hudson Joshua Creighton</td>\n",
       "      <td>C22 C26</td>\n",
       "      <td>Montreal, PQ / Chesterville, ON</td>\n",
       "    </tr>\n",
       "    <tr>\n",
       "      <td>4</td>\n",
       "      <td>Allison, Mrs. Hudson J C (Bessie Waldo Daniels)</td>\n",
       "      <td>C22 C26</td>\n",
       "      <td>Montreal, PQ / Chesterville, ON</td>\n",
       "    </tr>\n",
       "  </tbody>\n",
       "</table>\n",
       "</div>"
      ],
      "text/plain": [
       "                                              name    cabin  \\\n",
       "1                   Allison, Master. Hudson Trevor  C22 C26   \n",
       "2                     Allison, Miss. Helen Loraine  C22 C26   \n",
       "3             Allison, Mr. Hudson Joshua Creighton  C22 C26   \n",
       "4  Allison, Mrs. Hudson J C (Bessie Waldo Daniels)  C22 C26   \n",
       "\n",
       "                         home.dest  \n",
       "1  Montreal, PQ / Chesterville, ON  \n",
       "2  Montreal, PQ / Chesterville, ON  \n",
       "3  Montreal, PQ / Chesterville, ON  \n",
       "4  Montreal, PQ / Chesterville, ON  "
      ]
     },
     "execution_count": 14,
     "metadata": {},
     "output_type": "execute_result"
    }
   ],
   "source": [
    "# which passengers have the last name \"Allison\"?\n",
    "\n",
    "df.loc[df[\"name\"].str.startswith(\"Allison\")]"
   ]
  },
  {
   "cell_type": "code",
   "execution_count": 17,
   "metadata": {},
   "outputs": [
    {
     "data": {
      "text/plain": [
       "0       False\n",
       "1       False\n",
       "2       False\n",
       "3       False\n",
       "4       False\n",
       "        ...  \n",
       "1304    False\n",
       "1305    False\n",
       "1306    False\n",
       "1307    False\n",
       "1308    False\n",
       "Name: name, Length: 1309, dtype: bool"
      ]
     },
     "execution_count": 17,
     "metadata": {},
     "output_type": "execute_result"
    }
   ],
   "source": [
    "#### does my string end with a specific character?\n",
    "# how many passengers have the first name \"Ellen\"?\n",
    "\n",
    "df[\"name\"].str.endswith(\"Ellen\")#.sum()"
   ]
  },
  {
   "cell_type": "code",
   "execution_count": 16,
   "metadata": {
    "scrolled": true
   },
   "outputs": [
    {
     "data": {
      "text/html": [
       "<div>\n",
       "<style scoped>\n",
       "    .dataframe tbody tr th:only-of-type {\n",
       "        vertical-align: middle;\n",
       "    }\n",
       "\n",
       "    .dataframe tbody tr th {\n",
       "        vertical-align: top;\n",
       "    }\n",
       "\n",
       "    .dataframe thead th {\n",
       "        text-align: right;\n",
       "    }\n",
       "</style>\n",
       "<table border=\"1\" class=\"dataframe\">\n",
       "  <thead>\n",
       "    <tr style=\"text-align: right;\">\n",
       "      <th></th>\n",
       "      <th>name</th>\n",
       "      <th>cabin</th>\n",
       "      <th>home.dest</th>\n",
       "    </tr>\n",
       "  </thead>\n",
       "  <tbody>\n",
       "    <tr>\n",
       "      <td>24</td>\n",
       "      <td>Bird, Miss. Ellen</td>\n",
       "      <td>C97</td>\n",
       "      <td>NaN</td>\n",
       "    </tr>\n",
       "    <tr>\n",
       "      <td>570</td>\n",
       "      <td>Toomey, Miss. Ellen</td>\n",
       "      <td>NaN</td>\n",
       "      <td>Indianapolis, IN</td>\n",
       "    </tr>\n",
       "  </tbody>\n",
       "</table>\n",
       "</div>"
      ],
      "text/plain": [
       "                    name cabin         home.dest\n",
       "24     Bird, Miss. Ellen   C97               NaN\n",
       "570  Toomey, Miss. Ellen   NaN  Indianapolis, IN"
      ]
     },
     "execution_count": 16,
     "metadata": {},
     "output_type": "execute_result"
    }
   ],
   "source": [
    "# which passengers have the first name \"Ellen\"?\n",
    "\n",
    "df.loc[df[\"name\"].str.endswith(\"Ellen\")]"
   ]
  },
  {
   "cell_type": "markdown",
   "metadata": {},
   "source": [
    "### Locating specific characters or strings"
   ]
  },
  {
   "cell_type": "code",
   "execution_count": 18,
   "metadata": {},
   "outputs": [
    {
     "data": {
      "text/plain": [
       "0       False\n",
       "1       False\n",
       "2       False\n",
       "3       False\n",
       "4       False\n",
       "        ...  \n",
       "1304    False\n",
       "1305    False\n",
       "1306    False\n",
       "1307    False\n",
       "1308    False\n",
       "Name: name, Length: 1309, dtype: bool"
      ]
     },
     "execution_count": 18,
     "metadata": {},
     "output_type": "execute_result"
    }
   ],
   "source": [
    "#### locating words or symbols in dataset\n",
    "\n",
    "df[\"name\"].str.contains(\"Sara\")#.sum()"
   ]
  },
  {
   "cell_type": "code",
   "execution_count": 19,
   "metadata": {},
   "outputs": [
    {
     "data": {
      "text/html": [
       "<div>\n",
       "<style scoped>\n",
       "    .dataframe tbody tr th:only-of-type {\n",
       "        vertical-align: middle;\n",
       "    }\n",
       "\n",
       "    .dataframe tbody tr th {\n",
       "        vertical-align: top;\n",
       "    }\n",
       "\n",
       "    .dataframe thead th {\n",
       "        text-align: right;\n",
       "    }\n",
       "</style>\n",
       "<table border=\"1\" class=\"dataframe\">\n",
       "  <thead>\n",
       "    <tr style=\"text-align: right;\">\n",
       "      <th></th>\n",
       "      <th>name</th>\n",
       "      <th>cabin</th>\n",
       "      <th>home.dest</th>\n",
       "    </tr>\n",
       "  </thead>\n",
       "  <tbody>\n",
       "    <tr>\n",
       "      <td>76</td>\n",
       "      <td>Compton, Miss. Sara Rebecca</td>\n",
       "      <td>E49</td>\n",
       "      <td>Lakewood, NJ</td>\n",
       "    </tr>\n",
       "    <tr>\n",
       "      <td>88</td>\n",
       "      <td>Daniels, Miss. Sarah</td>\n",
       "      <td>NaN</td>\n",
       "      <td>NaN</td>\n",
       "    </tr>\n",
       "    <tr>\n",
       "      <td>369</td>\n",
       "      <td>Chapman, Mrs. John Henry (Sara Elizabeth Lawry)</td>\n",
       "      <td>NaN</td>\n",
       "      <td>Cornwall / Spokane, WA</td>\n",
       "    </tr>\n",
       "    <tr>\n",
       "      <td>1159</td>\n",
       "      <td>Roth, Miss. Sarah A</td>\n",
       "      <td>NaN</td>\n",
       "      <td>NaN</td>\n",
       "    </tr>\n",
       "  </tbody>\n",
       "</table>\n",
       "</div>"
      ],
      "text/plain": [
       "                                                 name cabin  \\\n",
       "76                        Compton, Miss. Sara Rebecca   E49   \n",
       "88                               Daniels, Miss. Sarah   NaN   \n",
       "369   Chapman, Mrs. John Henry (Sara Elizabeth Lawry)   NaN   \n",
       "1159                              Roth, Miss. Sarah A   NaN   \n",
       "\n",
       "                   home.dest  \n",
       "76              Lakewood, NJ  \n",
       "88                       NaN  \n",
       "369   Cornwall / Spokane, WA  \n",
       "1159                     NaN  "
      ]
     },
     "execution_count": 19,
     "metadata": {},
     "output_type": "execute_result"
    }
   ],
   "source": [
    "df.loc[df[\"name\"].str.contains(\"Sara\")]"
   ]
  },
  {
   "cell_type": "markdown",
   "metadata": {},
   "source": [
    "### Changing text case - uppercase, lowercase, titlecase"
   ]
  },
  {
   "cell_type": "code",
   "execution_count": 24,
   "metadata": {},
   "outputs": [
    {
     "data": {
      "text/html": [
       "<div>\n",
       "<style scoped>\n",
       "    .dataframe tbody tr th:only-of-type {\n",
       "        vertical-align: middle;\n",
       "    }\n",
       "\n",
       "    .dataframe tbody tr th {\n",
       "        vertical-align: top;\n",
       "    }\n",
       "\n",
       "    .dataframe thead th {\n",
       "        text-align: right;\n",
       "    }\n",
       "</style>\n",
       "<table border=\"1\" class=\"dataframe\">\n",
       "  <thead>\n",
       "    <tr style=\"text-align: right;\">\n",
       "      <th></th>\n",
       "      <th>name</th>\n",
       "      <th>cabin</th>\n",
       "      <th>home.dest</th>\n",
       "      <th>UP_name</th>\n",
       "      <th>LOW_name</th>\n",
       "    </tr>\n",
       "  </thead>\n",
       "  <tbody>\n",
       "    <tr>\n",
       "      <td>0</td>\n",
       "      <td>Allen, Miss. Elisabeth Walton</td>\n",
       "      <td>B5</td>\n",
       "      <td>St Louis, MO</td>\n",
       "      <td>ALLEN, MISS. ELISABETH WALTON</td>\n",
       "      <td>allen, miss. elisabeth walton</td>\n",
       "    </tr>\n",
       "    <tr>\n",
       "      <td>1</td>\n",
       "      <td>Allison, Master. Hudson Trevor</td>\n",
       "      <td>C22 C26</td>\n",
       "      <td>Montreal, PQ / Chesterville, ON</td>\n",
       "      <td>ALLISON, MASTER. HUDSON TREVOR</td>\n",
       "      <td>allison, master. hudson trevor</td>\n",
       "    </tr>\n",
       "    <tr>\n",
       "      <td>2</td>\n",
       "      <td>Allison, Miss. Helen Loraine</td>\n",
       "      <td>C22 C26</td>\n",
       "      <td>Montreal, PQ / Chesterville, ON</td>\n",
       "      <td>ALLISON, MISS. HELEN LORAINE</td>\n",
       "      <td>allison, miss. helen loraine</td>\n",
       "    </tr>\n",
       "    <tr>\n",
       "      <td>3</td>\n",
       "      <td>Allison, Mr. Hudson Joshua Creighton</td>\n",
       "      <td>C22 C26</td>\n",
       "      <td>Montreal, PQ / Chesterville, ON</td>\n",
       "      <td>ALLISON, MR. HUDSON JOSHUA CREIGHTON</td>\n",
       "      <td>allison, mr. hudson joshua creighton</td>\n",
       "    </tr>\n",
       "    <tr>\n",
       "      <td>4</td>\n",
       "      <td>Allison, Mrs. Hudson J C (Bessie Waldo Daniels)</td>\n",
       "      <td>C22 C26</td>\n",
       "      <td>Montreal, PQ / Chesterville, ON</td>\n",
       "      <td>ALLISON, MRS. HUDSON J C (BESSIE WALDO DANIELS)</td>\n",
       "      <td>allison, mrs. hudson j c (bessie waldo daniels)</td>\n",
       "    </tr>\n",
       "  </tbody>\n",
       "</table>\n",
       "</div>"
      ],
      "text/plain": [
       "                                              name    cabin  \\\n",
       "0                    Allen, Miss. Elisabeth Walton       B5   \n",
       "1                   Allison, Master. Hudson Trevor  C22 C26   \n",
       "2                     Allison, Miss. Helen Loraine  C22 C26   \n",
       "3             Allison, Mr. Hudson Joshua Creighton  C22 C26   \n",
       "4  Allison, Mrs. Hudson J C (Bessie Waldo Daniels)  C22 C26   \n",
       "\n",
       "                         home.dest  \\\n",
       "0                     St Louis, MO   \n",
       "1  Montreal, PQ / Chesterville, ON   \n",
       "2  Montreal, PQ / Chesterville, ON   \n",
       "3  Montreal, PQ / Chesterville, ON   \n",
       "4  Montreal, PQ / Chesterville, ON   \n",
       "\n",
       "                                           UP_name  \\\n",
       "0                    ALLEN, MISS. ELISABETH WALTON   \n",
       "1                   ALLISON, MASTER. HUDSON TREVOR   \n",
       "2                     ALLISON, MISS. HELEN LORAINE   \n",
       "3             ALLISON, MR. HUDSON JOSHUA CREIGHTON   \n",
       "4  ALLISON, MRS. HUDSON J C (BESSIE WALDO DANIELS)   \n",
       "\n",
       "                                          LOW_name  \n",
       "0                    allen, miss. elisabeth walton  \n",
       "1                   allison, master. hudson trevor  \n",
       "2                     allison, miss. helen loraine  \n",
       "3             allison, mr. hudson joshua creighton  \n",
       "4  allison, mrs. hudson j c (bessie waldo daniels)  "
      ]
     },
     "execution_count": 24,
     "metadata": {},
     "output_type": "execute_result"
    }
   ],
   "source": [
    "#### changing string case\n",
    "# changing the text to all uppercase\n",
    "\n",
    "df[\"UP_name\"] = df[\"name\"].str.upper()\n",
    "df.head()"
   ]
  },
  {
   "cell_type": "code",
   "execution_count": 23,
   "metadata": {},
   "outputs": [
    {
     "data": {
      "text/html": [
       "<div>\n",
       "<style scoped>\n",
       "    .dataframe tbody tr th:only-of-type {\n",
       "        vertical-align: middle;\n",
       "    }\n",
       "\n",
       "    .dataframe tbody tr th {\n",
       "        vertical-align: top;\n",
       "    }\n",
       "\n",
       "    .dataframe thead th {\n",
       "        text-align: right;\n",
       "    }\n",
       "</style>\n",
       "<table border=\"1\" class=\"dataframe\">\n",
       "  <thead>\n",
       "    <tr style=\"text-align: right;\">\n",
       "      <th></th>\n",
       "      <th>name</th>\n",
       "      <th>cabin</th>\n",
       "      <th>home.dest</th>\n",
       "      <th>UP_name</th>\n",
       "      <th>LOW_name</th>\n",
       "    </tr>\n",
       "  </thead>\n",
       "  <tbody>\n",
       "    <tr>\n",
       "      <td>0</td>\n",
       "      <td>Allen, Miss. Elisabeth Walton</td>\n",
       "      <td>B5</td>\n",
       "      <td>St Louis, MO</td>\n",
       "      <td>ALLEN, MISS. ELISABETH WALTON</td>\n",
       "      <td>allen, miss. elisabeth walton</td>\n",
       "    </tr>\n",
       "    <tr>\n",
       "      <td>1</td>\n",
       "      <td>Allison, Master. Hudson Trevor</td>\n",
       "      <td>C22 C26</td>\n",
       "      <td>Montreal, PQ / Chesterville, ON</td>\n",
       "      <td>ALLISON, MASTER. HUDSON TREVOR</td>\n",
       "      <td>allison, master. hudson trevor</td>\n",
       "    </tr>\n",
       "    <tr>\n",
       "      <td>2</td>\n",
       "      <td>Allison, Miss. Helen Loraine</td>\n",
       "      <td>C22 C26</td>\n",
       "      <td>Montreal, PQ / Chesterville, ON</td>\n",
       "      <td>ALLISON, MISS. HELEN LORAINE</td>\n",
       "      <td>allison, miss. helen loraine</td>\n",
       "    </tr>\n",
       "    <tr>\n",
       "      <td>3</td>\n",
       "      <td>Allison, Mr. Hudson Joshua Creighton</td>\n",
       "      <td>C22 C26</td>\n",
       "      <td>Montreal, PQ / Chesterville, ON</td>\n",
       "      <td>ALLISON, MR. HUDSON JOSHUA CREIGHTON</td>\n",
       "      <td>allison, mr. hudson joshua creighton</td>\n",
       "    </tr>\n",
       "    <tr>\n",
       "      <td>4</td>\n",
       "      <td>Allison, Mrs. Hudson J C (Bessie Waldo Daniels)</td>\n",
       "      <td>C22 C26</td>\n",
       "      <td>Montreal, PQ / Chesterville, ON</td>\n",
       "      <td>ALLISON, MRS. HUDSON J C (BESSIE WALDO DANIELS)</td>\n",
       "      <td>allison, mrs. hudson j c (bessie waldo daniels)</td>\n",
       "    </tr>\n",
       "  </tbody>\n",
       "</table>\n",
       "</div>"
      ],
      "text/plain": [
       "                                              name    cabin  \\\n",
       "0                    Allen, Miss. Elisabeth Walton       B5   \n",
       "1                   Allison, Master. Hudson Trevor  C22 C26   \n",
       "2                     Allison, Miss. Helen Loraine  C22 C26   \n",
       "3             Allison, Mr. Hudson Joshua Creighton  C22 C26   \n",
       "4  Allison, Mrs. Hudson J C (Bessie Waldo Daniels)  C22 C26   \n",
       "\n",
       "                         home.dest  \\\n",
       "0                     St Louis, MO   \n",
       "1  Montreal, PQ / Chesterville, ON   \n",
       "2  Montreal, PQ / Chesterville, ON   \n",
       "3  Montreal, PQ / Chesterville, ON   \n",
       "4  Montreal, PQ / Chesterville, ON   \n",
       "\n",
       "                                           UP_name  \\\n",
       "0                    ALLEN, MISS. ELISABETH WALTON   \n",
       "1                   ALLISON, MASTER. HUDSON TREVOR   \n",
       "2                     ALLISON, MISS. HELEN LORAINE   \n",
       "3             ALLISON, MR. HUDSON JOSHUA CREIGHTON   \n",
       "4  ALLISON, MRS. HUDSON J C (BESSIE WALDO DANIELS)   \n",
       "\n",
       "                                          LOW_name  \n",
       "0                    allen, miss. elisabeth walton  \n",
       "1                   allison, master. hudson trevor  \n",
       "2                     allison, miss. helen loraine  \n",
       "3             allison, mr. hudson joshua creighton  \n",
       "4  allison, mrs. hudson j c (bessie waldo daniels)  "
      ]
     },
     "execution_count": 23,
     "metadata": {},
     "output_type": "execute_result"
    }
   ],
   "source": [
    "#### changing string case\n",
    "# changing the text to all lowercase\n",
    "\n",
    "df[\"LOW_name\"] = df[\"name\"].str.lower()\n",
    "\n",
    "df.head()"
   ]
  },
  {
   "cell_type": "code",
   "execution_count": 25,
   "metadata": {},
   "outputs": [
    {
     "data": {
      "text/html": [
       "<div>\n",
       "<style scoped>\n",
       "    .dataframe tbody tr th:only-of-type {\n",
       "        vertical-align: middle;\n",
       "    }\n",
       "\n",
       "    .dataframe tbody tr th {\n",
       "        vertical-align: top;\n",
       "    }\n",
       "\n",
       "    .dataframe thead th {\n",
       "        text-align: right;\n",
       "    }\n",
       "</style>\n",
       "<table border=\"1\" class=\"dataframe\">\n",
       "  <thead>\n",
       "    <tr style=\"text-align: right;\">\n",
       "      <th></th>\n",
       "      <th>name</th>\n",
       "      <th>cabin</th>\n",
       "      <th>home.dest</th>\n",
       "      <th>UP_name</th>\n",
       "      <th>LOW_name</th>\n",
       "      <th>TITLE_name</th>\n",
       "    </tr>\n",
       "  </thead>\n",
       "  <tbody>\n",
       "    <tr>\n",
       "      <td>0</td>\n",
       "      <td>Allen, Miss. Elisabeth Walton</td>\n",
       "      <td>B5</td>\n",
       "      <td>St Louis, MO</td>\n",
       "      <td>ALLEN, MISS. ELISABETH WALTON</td>\n",
       "      <td>allen, miss. elisabeth walton</td>\n",
       "      <td>Allen, Miss. Elisabeth Walton</td>\n",
       "    </tr>\n",
       "    <tr>\n",
       "      <td>1</td>\n",
       "      <td>Allison, Master. Hudson Trevor</td>\n",
       "      <td>C22 C26</td>\n",
       "      <td>Montreal, PQ / Chesterville, ON</td>\n",
       "      <td>ALLISON, MASTER. HUDSON TREVOR</td>\n",
       "      <td>allison, master. hudson trevor</td>\n",
       "      <td>Allison, Master. Hudson Trevor</td>\n",
       "    </tr>\n",
       "    <tr>\n",
       "      <td>2</td>\n",
       "      <td>Allison, Miss. Helen Loraine</td>\n",
       "      <td>C22 C26</td>\n",
       "      <td>Montreal, PQ / Chesterville, ON</td>\n",
       "      <td>ALLISON, MISS. HELEN LORAINE</td>\n",
       "      <td>allison, miss. helen loraine</td>\n",
       "      <td>Allison, Miss. Helen Loraine</td>\n",
       "    </tr>\n",
       "    <tr>\n",
       "      <td>3</td>\n",
       "      <td>Allison, Mr. Hudson Joshua Creighton</td>\n",
       "      <td>C22 C26</td>\n",
       "      <td>Montreal, PQ / Chesterville, ON</td>\n",
       "      <td>ALLISON, MR. HUDSON JOSHUA CREIGHTON</td>\n",
       "      <td>allison, mr. hudson joshua creighton</td>\n",
       "      <td>Allison, Mr. Hudson Joshua Creighton</td>\n",
       "    </tr>\n",
       "    <tr>\n",
       "      <td>4</td>\n",
       "      <td>Allison, Mrs. Hudson J C (Bessie Waldo Daniels)</td>\n",
       "      <td>C22 C26</td>\n",
       "      <td>Montreal, PQ / Chesterville, ON</td>\n",
       "      <td>ALLISON, MRS. HUDSON J C (BESSIE WALDO DANIELS)</td>\n",
       "      <td>allison, mrs. hudson j c (bessie waldo daniels)</td>\n",
       "      <td>Allison, Mrs. Hudson J C (Bessie Waldo Daniels)</td>\n",
       "    </tr>\n",
       "  </tbody>\n",
       "</table>\n",
       "</div>"
      ],
      "text/plain": [
       "                                              name    cabin  \\\n",
       "0                    Allen, Miss. Elisabeth Walton       B5   \n",
       "1                   Allison, Master. Hudson Trevor  C22 C26   \n",
       "2                     Allison, Miss. Helen Loraine  C22 C26   \n",
       "3             Allison, Mr. Hudson Joshua Creighton  C22 C26   \n",
       "4  Allison, Mrs. Hudson J C (Bessie Waldo Daniels)  C22 C26   \n",
       "\n",
       "                         home.dest  \\\n",
       "0                     St Louis, MO   \n",
       "1  Montreal, PQ / Chesterville, ON   \n",
       "2  Montreal, PQ / Chesterville, ON   \n",
       "3  Montreal, PQ / Chesterville, ON   \n",
       "4  Montreal, PQ / Chesterville, ON   \n",
       "\n",
       "                                           UP_name  \\\n",
       "0                    ALLEN, MISS. ELISABETH WALTON   \n",
       "1                   ALLISON, MASTER. HUDSON TREVOR   \n",
       "2                     ALLISON, MISS. HELEN LORAINE   \n",
       "3             ALLISON, MR. HUDSON JOSHUA CREIGHTON   \n",
       "4  ALLISON, MRS. HUDSON J C (BESSIE WALDO DANIELS)   \n",
       "\n",
       "                                          LOW_name  \\\n",
       "0                    allen, miss. elisabeth walton   \n",
       "1                   allison, master. hudson trevor   \n",
       "2                     allison, miss. helen loraine   \n",
       "3             allison, mr. hudson joshua creighton   \n",
       "4  allison, mrs. hudson j c (bessie waldo daniels)   \n",
       "\n",
       "                                        TITLE_name  \n",
       "0                    Allen, Miss. Elisabeth Walton  \n",
       "1                   Allison, Master. Hudson Trevor  \n",
       "2                     Allison, Miss. Helen Loraine  \n",
       "3             Allison, Mr. Hudson Joshua Creighton  \n",
       "4  Allison, Mrs. Hudson J C (Bessie Waldo Daniels)  "
      ]
     },
     "execution_count": 25,
     "metadata": {},
     "output_type": "execute_result"
    }
   ],
   "source": [
    "#### changing string case\n",
    "# changing the text to title case (first letter capitalization)\n",
    "\n",
    "df[\"TITLE_name\"] = df[\"name\"].str.title()\n",
    "\n",
    "df.head()"
   ]
  },
  {
   "cell_type": "markdown",
   "metadata": {},
   "source": [
    "### Remove white space from text"
   ]
  },
  {
   "cell_type": "code",
   "execution_count": 26,
   "metadata": {},
   "outputs": [
    {
     "data": {
      "text/plain": [
       "'   _These words are surrounded by too much space_     '"
      ]
     },
     "execution_count": 26,
     "metadata": {},
     "output_type": "execute_result"
    }
   ],
   "source": [
    "extra = \"   _These words are surrounded by too much space_     \"\n",
    "extra "
   ]
  },
  {
   "cell_type": "code",
   "execution_count": 27,
   "metadata": {},
   "outputs": [
    {
     "data": {
      "text/plain": [
       "'   _These words are surrounded by too much space_'"
      ]
     },
     "execution_count": 27,
     "metadata": {},
     "output_type": "execute_result"
    }
   ],
   "source": [
    "#### remove white space from the right-hand side of the text\n",
    "\n",
    "extra.rstrip()"
   ]
  },
  {
   "cell_type": "code",
   "execution_count": 28,
   "metadata": {},
   "outputs": [
    {
     "data": {
      "text/plain": [
       "'_These words are surrounded by too much space_     '"
      ]
     },
     "execution_count": 28,
     "metadata": {},
     "output_type": "execute_result"
    }
   ],
   "source": [
    "#### remove white space from the left-hand side of the text\n",
    "\n",
    "extra.lstrip()"
   ]
  },
  {
   "cell_type": "code",
   "execution_count": 29,
   "metadata": {},
   "outputs": [
    {
     "data": {
      "text/plain": [
       "'_These words are surrounded by too much space_'"
      ]
     },
     "execution_count": 29,
     "metadata": {},
     "output_type": "execute_result"
    }
   ],
   "source": [
    "#### remove white space from both sides of the text\n",
    "\n",
    "extra.strip()"
   ]
  },
  {
   "cell_type": "code",
   "execution_count": 30,
   "metadata": {},
   "outputs": [
    {
     "data": {
      "text/html": [
       "<div>\n",
       "<style scoped>\n",
       "    .dataframe tbody tr th:only-of-type {\n",
       "        vertical-align: middle;\n",
       "    }\n",
       "\n",
       "    .dataframe tbody tr th {\n",
       "        vertical-align: top;\n",
       "    }\n",
       "\n",
       "    .dataframe thead th {\n",
       "        text-align: right;\n",
       "    }\n",
       "</style>\n",
       "<table border=\"1\" class=\"dataframe\">\n",
       "  <thead>\n",
       "    <tr style=\"text-align: right;\">\n",
       "      <th></th>\n",
       "      <th>name</th>\n",
       "      <th>cabin</th>\n",
       "      <th>home.dest</th>\n",
       "      <th>UP_name</th>\n",
       "      <th>LOW_name</th>\n",
       "      <th>TITLE_name</th>\n",
       "      <th>name_s</th>\n",
       "    </tr>\n",
       "  </thead>\n",
       "  <tbody>\n",
       "    <tr>\n",
       "      <td>0</td>\n",
       "      <td>Allen, Miss. Elisabeth Walton</td>\n",
       "      <td>B5</td>\n",
       "      <td>St Louis, MO</td>\n",
       "      <td>ALLEN, MISS. ELISABETH WALTON</td>\n",
       "      <td>allen, miss. elisabeth walton</td>\n",
       "      <td>Allen, Miss. Elisabeth Walton</td>\n",
       "      <td>Allen, Miss. Elisabeth Walton</td>\n",
       "    </tr>\n",
       "    <tr>\n",
       "      <td>1</td>\n",
       "      <td>Allison, Master. Hudson Trevor</td>\n",
       "      <td>C22 C26</td>\n",
       "      <td>Montreal, PQ / Chesterville, ON</td>\n",
       "      <td>ALLISON, MASTER. HUDSON TREVOR</td>\n",
       "      <td>allison, master. hudson trevor</td>\n",
       "      <td>Allison, Master. Hudson Trevor</td>\n",
       "      <td>Allison, Master. Hudson Trevor</td>\n",
       "    </tr>\n",
       "    <tr>\n",
       "      <td>2</td>\n",
       "      <td>Allison, Miss. Helen Loraine</td>\n",
       "      <td>C22 C26</td>\n",
       "      <td>Montreal, PQ / Chesterville, ON</td>\n",
       "      <td>ALLISON, MISS. HELEN LORAINE</td>\n",
       "      <td>allison, miss. helen loraine</td>\n",
       "      <td>Allison, Miss. Helen Loraine</td>\n",
       "      <td>Allison, Miss. Helen Loraine</td>\n",
       "    </tr>\n",
       "    <tr>\n",
       "      <td>3</td>\n",
       "      <td>Allison, Mr. Hudson Joshua Creighton</td>\n",
       "      <td>C22 C26</td>\n",
       "      <td>Montreal, PQ / Chesterville, ON</td>\n",
       "      <td>ALLISON, MR. HUDSON JOSHUA CREIGHTON</td>\n",
       "      <td>allison, mr. hudson joshua creighton</td>\n",
       "      <td>Allison, Mr. Hudson Joshua Creighton</td>\n",
       "      <td>Allison, Mr. Hudson Joshua Creighton</td>\n",
       "    </tr>\n",
       "    <tr>\n",
       "      <td>4</td>\n",
       "      <td>Allison, Mrs. Hudson J C (Bessie Waldo Daniels)</td>\n",
       "      <td>C22 C26</td>\n",
       "      <td>Montreal, PQ / Chesterville, ON</td>\n",
       "      <td>ALLISON, MRS. HUDSON J C (BESSIE WALDO DANIELS)</td>\n",
       "      <td>allison, mrs. hudson j c (bessie waldo daniels)</td>\n",
       "      <td>Allison, Mrs. Hudson J C (Bessie Waldo Daniels)</td>\n",
       "      <td>Allison, Mrs. Hudson J C (Bessie Waldo Daniels)</td>\n",
       "    </tr>\n",
       "  </tbody>\n",
       "</table>\n",
       "</div>"
      ],
      "text/plain": [
       "                                              name    cabin  \\\n",
       "0                    Allen, Miss. Elisabeth Walton       B5   \n",
       "1                   Allison, Master. Hudson Trevor  C22 C26   \n",
       "2                     Allison, Miss. Helen Loraine  C22 C26   \n",
       "3             Allison, Mr. Hudson Joshua Creighton  C22 C26   \n",
       "4  Allison, Mrs. Hudson J C (Bessie Waldo Daniels)  C22 C26   \n",
       "\n",
       "                         home.dest  \\\n",
       "0                     St Louis, MO   \n",
       "1  Montreal, PQ / Chesterville, ON   \n",
       "2  Montreal, PQ / Chesterville, ON   \n",
       "3  Montreal, PQ / Chesterville, ON   \n",
       "4  Montreal, PQ / Chesterville, ON   \n",
       "\n",
       "                                           UP_name  \\\n",
       "0                    ALLEN, MISS. ELISABETH WALTON   \n",
       "1                   ALLISON, MASTER. HUDSON TREVOR   \n",
       "2                     ALLISON, MISS. HELEN LORAINE   \n",
       "3             ALLISON, MR. HUDSON JOSHUA CREIGHTON   \n",
       "4  ALLISON, MRS. HUDSON J C (BESSIE WALDO DANIELS)   \n",
       "\n",
       "                                          LOW_name  \\\n",
       "0                    allen, miss. elisabeth walton   \n",
       "1                   allison, master. hudson trevor   \n",
       "2                     allison, miss. helen loraine   \n",
       "3             allison, mr. hudson joshua creighton   \n",
       "4  allison, mrs. hudson j c (bessie waldo daniels)   \n",
       "\n",
       "                                        TITLE_name  \\\n",
       "0                    Allen, Miss. Elisabeth Walton   \n",
       "1                   Allison, Master. Hudson Trevor   \n",
       "2                     Allison, Miss. Helen Loraine   \n",
       "3             Allison, Mr. Hudson Joshua Creighton   \n",
       "4  Allison, Mrs. Hudson J C (Bessie Waldo Daniels)   \n",
       "\n",
       "                                            name_s  \n",
       "0                    Allen, Miss. Elisabeth Walton  \n",
       "1                   Allison, Master. Hudson Trevor  \n",
       "2                     Allison, Miss. Helen Loraine  \n",
       "3             Allison, Mr. Hudson Joshua Creighton  \n",
       "4  Allison, Mrs. Hudson J C (Bessie Waldo Daniels)  "
      ]
     },
     "execution_count": 30,
     "metadata": {},
     "output_type": "execute_result"
    }
   ],
   "source": [
    "df[\"name_s\"] = df[\"name\"].str.strip()\n",
    "\n",
    "df.head()"
   ]
  },
  {
   "cell_type": "markdown",
   "metadata": {},
   "source": [
    "### Splitting Strings "
   ]
  },
  {
   "cell_type": "code",
   "execution_count": 31,
   "metadata": {},
   "outputs": [
    {
     "data": {
      "text/html": [
       "<div>\n",
       "<style scoped>\n",
       "    .dataframe tbody tr th:only-of-type {\n",
       "        vertical-align: middle;\n",
       "    }\n",
       "\n",
       "    .dataframe tbody tr th {\n",
       "        vertical-align: top;\n",
       "    }\n",
       "\n",
       "    .dataframe thead th {\n",
       "        text-align: right;\n",
       "    }\n",
       "</style>\n",
       "<table border=\"1\" class=\"dataframe\">\n",
       "  <thead>\n",
       "    <tr style=\"text-align: right;\">\n",
       "      <th></th>\n",
       "      <th>name</th>\n",
       "      <th>cabin</th>\n",
       "      <th>home.dest</th>\n",
       "    </tr>\n",
       "  </thead>\n",
       "  <tbody>\n",
       "    <tr>\n",
       "      <td>0</td>\n",
       "      <td>Allen, Miss. Elisabeth Walton</td>\n",
       "      <td>B5</td>\n",
       "      <td>St Louis, MO</td>\n",
       "    </tr>\n",
       "    <tr>\n",
       "      <td>1</td>\n",
       "      <td>Allison, Master. Hudson Trevor</td>\n",
       "      <td>C22 C26</td>\n",
       "      <td>Montreal, PQ / Chesterville, ON</td>\n",
       "    </tr>\n",
       "  </tbody>\n",
       "</table>\n",
       "</div>"
      ],
      "text/plain": [
       "                             name    cabin                        home.dest\n",
       "0   Allen, Miss. Elisabeth Walton       B5                     St Louis, MO\n",
       "1  Allison, Master. Hudson Trevor  C22 C26  Montreal, PQ / Chesterville, ON"
      ]
     },
     "execution_count": 31,
     "metadata": {},
     "output_type": "execute_result"
    }
   ],
   "source": [
    "df = df[[\"name\", \"cabin\", \"home.dest\"]]\n",
    "\n",
    "df.head(2)"
   ]
  },
  {
   "cell_type": "code",
   "execution_count": 32,
   "metadata": {},
   "outputs": [
    {
     "data": {
      "text/plain": [
       "0                      [Allen,, Miss., Elisabeth, Walton]\n",
       "1                     [Allison,, Master., Hudson, Trevor]\n",
       "2                       [Allison,, Miss., Helen, Loraine]\n",
       "3              [Allison,, Mr., Hudson, Joshua, Creighton]\n",
       "4       [Allison,, Mrs., Hudson, J, C, (Bessie, Waldo,...\n",
       "                              ...                        \n",
       "1304                             [Zabour,, Miss., Hileni]\n",
       "1305                            [Zabour,, Miss., Thamine]\n",
       "1306                        [Zakarian,, Mr., Mapriededer]\n",
       "1307                              [Zakarian,, Mr., Ortin]\n",
       "1308                               [Zimmerman,, Mr., Leo]\n",
       "Name: name, Length: 1309, dtype: object"
      ]
     },
     "execution_count": 32,
     "metadata": {},
     "output_type": "execute_result"
    }
   ],
   "source": [
    "### split the string of text after each white space\n",
    "\n",
    "df[\"name\"].str.split(\" \")"
   ]
  },
  {
   "cell_type": "code",
   "execution_count": 33,
   "metadata": {},
   "outputs": [
    {
     "data": {
      "text/plain": [
       "0                        [Allen,, Miss. Elisabeth Walton]\n",
       "1                       [Allison,, Master. Hudson Trevor]\n",
       "2                         [Allison,, Miss. Helen Loraine]\n",
       "3                 [Allison,, Mr. Hudson Joshua Creighton]\n",
       "4       [Allison,, Mrs. Hudson J C (Bessie Waldo Danie...\n",
       "                              ...                        \n",
       "1304                              [Zabour,, Miss. Hileni]\n",
       "1305                             [Zabour,, Miss. Thamine]\n",
       "1306                         [Zakarian,, Mr. Mapriededer]\n",
       "1307                               [Zakarian,, Mr. Ortin]\n",
       "1308                                [Zimmerman,, Mr. Leo]\n",
       "Name: name, Length: 1309, dtype: object"
      ]
     },
     "execution_count": 33,
     "metadata": {},
     "output_type": "execute_result"
    }
   ],
   "source": [
    "### split the string of text after only the first white space (n = 1)\n",
    "\n",
    "df[\"name\"].str.split(\" \", n = 1)"
   ]
  },
  {
   "cell_type": "code",
   "execution_count": 34,
   "metadata": {},
   "outputs": [
    {
     "data": {
      "text/html": [
       "<div>\n",
       "<style scoped>\n",
       "    .dataframe tbody tr th:only-of-type {\n",
       "        vertical-align: middle;\n",
       "    }\n",
       "\n",
       "    .dataframe tbody tr th {\n",
       "        vertical-align: top;\n",
       "    }\n",
       "\n",
       "    .dataframe thead th {\n",
       "        text-align: right;\n",
       "    }\n",
       "</style>\n",
       "<table border=\"1\" class=\"dataframe\">\n",
       "  <thead>\n",
       "    <tr style=\"text-align: right;\">\n",
       "      <th></th>\n",
       "      <th>0</th>\n",
       "      <th>1</th>\n",
       "    </tr>\n",
       "  </thead>\n",
       "  <tbody>\n",
       "    <tr>\n",
       "      <td>0</td>\n",
       "      <td>Allen,</td>\n",
       "      <td>Miss. Elisabeth Walton</td>\n",
       "    </tr>\n",
       "    <tr>\n",
       "      <td>1</td>\n",
       "      <td>Allison,</td>\n",
       "      <td>Master. Hudson Trevor</td>\n",
       "    </tr>\n",
       "    <tr>\n",
       "      <td>2</td>\n",
       "      <td>Allison,</td>\n",
       "      <td>Miss. Helen Loraine</td>\n",
       "    </tr>\n",
       "    <tr>\n",
       "      <td>3</td>\n",
       "      <td>Allison,</td>\n",
       "      <td>Mr. Hudson Joshua Creighton</td>\n",
       "    </tr>\n",
       "    <tr>\n",
       "      <td>4</td>\n",
       "      <td>Allison,</td>\n",
       "      <td>Mrs. Hudson J C (Bessie Waldo Daniels)</td>\n",
       "    </tr>\n",
       "    <tr>\n",
       "      <td>...</td>\n",
       "      <td>...</td>\n",
       "      <td>...</td>\n",
       "    </tr>\n",
       "    <tr>\n",
       "      <td>1304</td>\n",
       "      <td>Zabour,</td>\n",
       "      <td>Miss. Hileni</td>\n",
       "    </tr>\n",
       "    <tr>\n",
       "      <td>1305</td>\n",
       "      <td>Zabour,</td>\n",
       "      <td>Miss. Thamine</td>\n",
       "    </tr>\n",
       "    <tr>\n",
       "      <td>1306</td>\n",
       "      <td>Zakarian,</td>\n",
       "      <td>Mr. Mapriededer</td>\n",
       "    </tr>\n",
       "    <tr>\n",
       "      <td>1307</td>\n",
       "      <td>Zakarian,</td>\n",
       "      <td>Mr. Ortin</td>\n",
       "    </tr>\n",
       "    <tr>\n",
       "      <td>1308</td>\n",
       "      <td>Zimmerman,</td>\n",
       "      <td>Mr. Leo</td>\n",
       "    </tr>\n",
       "  </tbody>\n",
       "</table>\n",
       "<p>1309 rows × 2 columns</p>\n",
       "</div>"
      ],
      "text/plain": [
       "               0                                       1\n",
       "0         Allen,                  Miss. Elisabeth Walton\n",
       "1       Allison,                   Master. Hudson Trevor\n",
       "2       Allison,                     Miss. Helen Loraine\n",
       "3       Allison,             Mr. Hudson Joshua Creighton\n",
       "4       Allison,  Mrs. Hudson J C (Bessie Waldo Daniels)\n",
       "...          ...                                     ...\n",
       "1304     Zabour,                            Miss. Hileni\n",
       "1305     Zabour,                           Miss. Thamine\n",
       "1306   Zakarian,                         Mr. Mapriededer\n",
       "1307   Zakarian,                               Mr. Ortin\n",
       "1308  Zimmerman,                                 Mr. Leo\n",
       "\n",
       "[1309 rows x 2 columns]"
      ]
     },
     "execution_count": 34,
     "metadata": {},
     "output_type": "execute_result"
    }
   ],
   "source": [
    "### split the string after the first white space, expand the seperated text to a new column \n",
    "\n",
    "df[\"name\"].str.split(\" \", n = 1, expand = True)"
   ]
  },
  {
   "cell_type": "code",
   "execution_count": 36,
   "metadata": {
    "scrolled": true
   },
   "outputs": [],
   "source": [
    "### before splitting the text, you can replace certain characters with blank spaces\n",
    "### replace special characters to make splitting easier\n",
    "\n",
    "df[\"name\"] = df[\"name\"].str.replace(\",\", \" \")"
   ]
  },
  {
   "cell_type": "code",
   "execution_count": 37,
   "metadata": {},
   "outputs": [
    {
     "data": {
      "text/html": [
       "<div>\n",
       "<style scoped>\n",
       "    .dataframe tbody tr th:only-of-type {\n",
       "        vertical-align: middle;\n",
       "    }\n",
       "\n",
       "    .dataframe tbody tr th {\n",
       "        vertical-align: top;\n",
       "    }\n",
       "\n",
       "    .dataframe thead th {\n",
       "        text-align: right;\n",
       "    }\n",
       "</style>\n",
       "<table border=\"1\" class=\"dataframe\">\n",
       "  <thead>\n",
       "    <tr style=\"text-align: right;\">\n",
       "      <th></th>\n",
       "      <th>0</th>\n",
       "      <th>1</th>\n",
       "    </tr>\n",
       "  </thead>\n",
       "  <tbody>\n",
       "    <tr>\n",
       "      <td>0</td>\n",
       "      <td>Allen</td>\n",
       "      <td>Miss. Elisabeth Walton</td>\n",
       "    </tr>\n",
       "    <tr>\n",
       "      <td>1</td>\n",
       "      <td>Allison</td>\n",
       "      <td>Master. Hudson Trevor</td>\n",
       "    </tr>\n",
       "    <tr>\n",
       "      <td>2</td>\n",
       "      <td>Allison</td>\n",
       "      <td>Miss. Helen Loraine</td>\n",
       "    </tr>\n",
       "    <tr>\n",
       "      <td>3</td>\n",
       "      <td>Allison</td>\n",
       "      <td>Mr. Hudson Joshua Creighton</td>\n",
       "    </tr>\n",
       "    <tr>\n",
       "      <td>4</td>\n",
       "      <td>Allison</td>\n",
       "      <td>Mrs. Hudson J C (Bessie Waldo Daniels)</td>\n",
       "    </tr>\n",
       "    <tr>\n",
       "      <td>...</td>\n",
       "      <td>...</td>\n",
       "      <td>...</td>\n",
       "    </tr>\n",
       "    <tr>\n",
       "      <td>1304</td>\n",
       "      <td>Zabour</td>\n",
       "      <td>Miss. Hileni</td>\n",
       "    </tr>\n",
       "    <tr>\n",
       "      <td>1305</td>\n",
       "      <td>Zabour</td>\n",
       "      <td>Miss. Thamine</td>\n",
       "    </tr>\n",
       "    <tr>\n",
       "      <td>1306</td>\n",
       "      <td>Zakarian</td>\n",
       "      <td>Mr. Mapriededer</td>\n",
       "    </tr>\n",
       "    <tr>\n",
       "      <td>1307</td>\n",
       "      <td>Zakarian</td>\n",
       "      <td>Mr. Ortin</td>\n",
       "    </tr>\n",
       "    <tr>\n",
       "      <td>1308</td>\n",
       "      <td>Zimmerman</td>\n",
       "      <td>Mr. Leo</td>\n",
       "    </tr>\n",
       "  </tbody>\n",
       "</table>\n",
       "<p>1309 rows × 2 columns</p>\n",
       "</div>"
      ],
      "text/plain": [
       "              0                                        1\n",
       "0         Allen                   Miss. Elisabeth Walton\n",
       "1       Allison                    Master. Hudson Trevor\n",
       "2       Allison                      Miss. Helen Loraine\n",
       "3       Allison              Mr. Hudson Joshua Creighton\n",
       "4       Allison   Mrs. Hudson J C (Bessie Waldo Daniels)\n",
       "...         ...                                      ...\n",
       "1304     Zabour                             Miss. Hileni\n",
       "1305     Zabour                            Miss. Thamine\n",
       "1306   Zakarian                          Mr. Mapriededer\n",
       "1307   Zakarian                                Mr. Ortin\n",
       "1308  Zimmerman                                  Mr. Leo\n",
       "\n",
       "[1309 rows x 2 columns]"
      ]
     },
     "execution_count": 37,
     "metadata": {},
     "output_type": "execute_result"
    }
   ],
   "source": [
    "## split the string after the first white space, expand the seperated text to a new column \n",
    "\n",
    "df[\"name\"].str.split(\" \", n = 1, expand = True)"
   ]
  },
  {
   "cell_type": "code",
   "execution_count": 38,
   "metadata": {},
   "outputs": [
    {
     "data": {
      "text/html": [
       "<div>\n",
       "<style scoped>\n",
       "    .dataframe tbody tr th:only-of-type {\n",
       "        vertical-align: middle;\n",
       "    }\n",
       "\n",
       "    .dataframe tbody tr th {\n",
       "        vertical-align: top;\n",
       "    }\n",
       "\n",
       "    .dataframe thead th {\n",
       "        text-align: right;\n",
       "    }\n",
       "</style>\n",
       "<table border=\"1\" class=\"dataframe\">\n",
       "  <thead>\n",
       "    <tr style=\"text-align: right;\">\n",
       "      <th></th>\n",
       "      <th>0</th>\n",
       "      <th>1</th>\n",
       "    </tr>\n",
       "  </thead>\n",
       "  <tbody>\n",
       "    <tr>\n",
       "      <td>0</td>\n",
       "      <td>Allen</td>\n",
       "      <td>Miss. Elisabeth Walton</td>\n",
       "    </tr>\n",
       "    <tr>\n",
       "      <td>1</td>\n",
       "      <td>Allison</td>\n",
       "      <td>Master. Hudson Trevor</td>\n",
       "    </tr>\n",
       "    <tr>\n",
       "      <td>2</td>\n",
       "      <td>Allison</td>\n",
       "      <td>Miss. Helen Loraine</td>\n",
       "    </tr>\n",
       "    <tr>\n",
       "      <td>3</td>\n",
       "      <td>Allison</td>\n",
       "      <td>Mr. Hudson Joshua Creighton</td>\n",
       "    </tr>\n",
       "    <tr>\n",
       "      <td>4</td>\n",
       "      <td>Allison</td>\n",
       "      <td>Mrs. Hudson J C (Bessie Waldo Daniels)</td>\n",
       "    </tr>\n",
       "  </tbody>\n",
       "</table>\n",
       "</div>"
      ],
      "text/plain": [
       "         0                                        1\n",
       "0    Allen                   Miss. Elisabeth Walton\n",
       "1  Allison                    Master. Hudson Trevor\n",
       "2  Allison                      Miss. Helen Loraine\n",
       "3  Allison              Mr. Hudson Joshua Creighton\n",
       "4  Allison   Mrs. Hudson J C (Bessie Waldo Daniels)"
      ]
     },
     "execution_count": 38,
     "metadata": {},
     "output_type": "execute_result"
    }
   ],
   "source": [
    "#### adding the split columns onto your original dataset\n",
    "# create a new dataset to capture the columns you plan to split (df2)\n",
    "\n",
    "df2 = df['name'].str.split(\" \", n = 1, expand = True)\n",
    "\n",
    "df2.head()"
   ]
  },
  {
   "cell_type": "code",
   "execution_count": 39,
   "metadata": {},
   "outputs": [
    {
     "data": {
      "text/html": [
       "<div>\n",
       "<style scoped>\n",
       "    .dataframe tbody tr th:only-of-type {\n",
       "        vertical-align: middle;\n",
       "    }\n",
       "\n",
       "    .dataframe tbody tr th {\n",
       "        vertical-align: top;\n",
       "    }\n",
       "\n",
       "    .dataframe thead th {\n",
       "        text-align: right;\n",
       "    }\n",
       "</style>\n",
       "<table border=\"1\" class=\"dataframe\">\n",
       "  <thead>\n",
       "    <tr style=\"text-align: right;\">\n",
       "      <th></th>\n",
       "      <th>name</th>\n",
       "      <th>cabin</th>\n",
       "      <th>home.dest</th>\n",
       "      <th>last name only</th>\n",
       "    </tr>\n",
       "  </thead>\n",
       "  <tbody>\n",
       "    <tr>\n",
       "      <td>0</td>\n",
       "      <td>Allen  Miss. Elisabeth Walton</td>\n",
       "      <td>B5</td>\n",
       "      <td>St Louis, MO</td>\n",
       "      <td>Allen</td>\n",
       "    </tr>\n",
       "    <tr>\n",
       "      <td>1</td>\n",
       "      <td>Allison  Master. Hudson Trevor</td>\n",
       "      <td>C22 C26</td>\n",
       "      <td>Montreal, PQ / Chesterville, ON</td>\n",
       "      <td>Allison</td>\n",
       "    </tr>\n",
       "    <tr>\n",
       "      <td>2</td>\n",
       "      <td>Allison  Miss. Helen Loraine</td>\n",
       "      <td>C22 C26</td>\n",
       "      <td>Montreal, PQ / Chesterville, ON</td>\n",
       "      <td>Allison</td>\n",
       "    </tr>\n",
       "    <tr>\n",
       "      <td>3</td>\n",
       "      <td>Allison  Mr. Hudson Joshua Creighton</td>\n",
       "      <td>C22 C26</td>\n",
       "      <td>Montreal, PQ / Chesterville, ON</td>\n",
       "      <td>Allison</td>\n",
       "    </tr>\n",
       "    <tr>\n",
       "      <td>4</td>\n",
       "      <td>Allison  Mrs. Hudson J C (Bessie Waldo Daniels)</td>\n",
       "      <td>C22 C26</td>\n",
       "      <td>Montreal, PQ / Chesterville, ON</td>\n",
       "      <td>Allison</td>\n",
       "    </tr>\n",
       "  </tbody>\n",
       "</table>\n",
       "</div>"
      ],
      "text/plain": [
       "                                              name    cabin  \\\n",
       "0                    Allen  Miss. Elisabeth Walton       B5   \n",
       "1                   Allison  Master. Hudson Trevor  C22 C26   \n",
       "2                     Allison  Miss. Helen Loraine  C22 C26   \n",
       "3             Allison  Mr. Hudson Joshua Creighton  C22 C26   \n",
       "4  Allison  Mrs. Hudson J C (Bessie Waldo Daniels)  C22 C26   \n",
       "\n",
       "                         home.dest last name only  \n",
       "0                     St Louis, MO          Allen  \n",
       "1  Montreal, PQ / Chesterville, ON        Allison  \n",
       "2  Montreal, PQ / Chesterville, ON        Allison  \n",
       "3  Montreal, PQ / Chesterville, ON        Allison  \n",
       "4  Montreal, PQ / Chesterville, ON        Allison  "
      ]
     },
     "execution_count": 39,
     "metadata": {},
     "output_type": "execute_result"
    }
   ],
   "source": [
    "#### create new columns (or overwrite existing columns) to include new columns to original dataset\n",
    "# when specifying the column you want to include, set it equal to the column index position\n",
    "\n",
    "df[\"last name only\"] = df2[0]\n",
    "\n",
    "df.head()"
   ]
  },
  {
   "cell_type": "markdown",
   "metadata": {},
   "source": [
    "## Calculating & Removing Outliers\n",
    "\n",
    "An outlier is a data point that differs significantly from other observations. The value of an outlier is relative to the dataset as a whole (i.e. 100-years old may be an outlier for a dataset for children, but not for the elderly). "
   ]
  },
  {
   "cell_type": "code",
   "execution_count": 41,
   "metadata": {},
   "outputs": [
    {
     "name": "stdout",
     "output_type": "stream",
     "text": [
      "(2000, 8)\n"
     ]
    },
    {
     "data": {
      "text/html": [
       "<div>\n",
       "<style scoped>\n",
       "    .dataframe tbody tr th:only-of-type {\n",
       "        vertical-align: middle;\n",
       "    }\n",
       "\n",
       "    .dataframe tbody tr th {\n",
       "        vertical-align: top;\n",
       "    }\n",
       "\n",
       "    .dataframe thead th {\n",
       "        text-align: right;\n",
       "    }\n",
       "</style>\n",
       "<table border=\"1\" class=\"dataframe\">\n",
       "  <thead>\n",
       "    <tr style=\"text-align: right;\">\n",
       "      <th></th>\n",
       "      <th>fname</th>\n",
       "      <th>lname</th>\n",
       "      <th>gender</th>\n",
       "      <th>age</th>\n",
       "      <th>exercise</th>\n",
       "      <th>hours</th>\n",
       "      <th>grade</th>\n",
       "      <th>address</th>\n",
       "    </tr>\n",
       "  </thead>\n",
       "  <tbody>\n",
       "    <tr>\n",
       "      <td>0</td>\n",
       "      <td>Marcia</td>\n",
       "      <td>Pugh</td>\n",
       "      <td>female</td>\n",
       "      <td>17</td>\n",
       "      <td>3</td>\n",
       "      <td>10</td>\n",
       "      <td>82.4</td>\n",
       "      <td>7379 Highland Rd. , Dublin, GA 31021</td>\n",
       "    </tr>\n",
       "    <tr>\n",
       "      <td>1</td>\n",
       "      <td>Kadeem</td>\n",
       "      <td>Morrison</td>\n",
       "      <td>male</td>\n",
       "      <td>18</td>\n",
       "      <td>4</td>\n",
       "      <td>4</td>\n",
       "      <td>78.2</td>\n",
       "      <td>8 Bayport St. , Honolulu, HI 96815</td>\n",
       "    </tr>\n",
       "    <tr>\n",
       "      <td>2</td>\n",
       "      <td>Nash</td>\n",
       "      <td>Powell</td>\n",
       "      <td>male</td>\n",
       "      <td>18</td>\n",
       "      <td>5</td>\n",
       "      <td>9</td>\n",
       "      <td>79.3</td>\n",
       "      <td>Encino, CA 91316, 3 Lilac Street</td>\n",
       "    </tr>\n",
       "    <tr>\n",
       "      <td>3</td>\n",
       "      <td>Noelani</td>\n",
       "      <td>Wagner</td>\n",
       "      <td>female</td>\n",
       "      <td>14</td>\n",
       "      <td>2</td>\n",
       "      <td>7</td>\n",
       "      <td>83.2</td>\n",
       "      <td>Riverview, FL 33569, 9998 North Smith Dr.</td>\n",
       "    </tr>\n",
       "    <tr>\n",
       "      <td>4</td>\n",
       "      <td>Noelani</td>\n",
       "      <td>Cherry</td>\n",
       "      <td>female</td>\n",
       "      <td>18</td>\n",
       "      <td>4</td>\n",
       "      <td>15</td>\n",
       "      <td>87.4</td>\n",
       "      <td>97 SE. Ocean Street , Bethlehem, PA 18015</td>\n",
       "    </tr>\n",
       "  </tbody>\n",
       "</table>\n",
       "</div>"
      ],
      "text/plain": [
       "     fname     lname  gender  age  exercise  hours  grade  \\\n",
       "0   Marcia      Pugh  female   17         3     10   82.4   \n",
       "1   Kadeem  Morrison    male   18         4      4   78.2   \n",
       "2     Nash    Powell    male   18         5      9   79.3   \n",
       "3  Noelani    Wagner  female   14         2      7   83.2   \n",
       "4  Noelani    Cherry  female   18         4     15   87.4   \n",
       "\n",
       "                                      address  \n",
       "0        7379 Highland Rd. , Dublin, GA 31021  \n",
       "1          8 Bayport St. , Honolulu, HI 96815  \n",
       "2           Encino, CA 91316, 3 Lilac Street   \n",
       "3  Riverview, FL 33569, 9998 North Smith Dr.   \n",
       "4   97 SE. Ocean Street , Bethlehem, PA 18015  "
      ]
     },
     "execution_count": 41,
     "metadata": {},
     "output_type": "execute_result"
    }
   ],
   "source": [
    "df = pd.read_csv(\"gradedata2.csv\")\n",
    "print(df.shape)\n",
    "df.head()"
   ]
  },
  {
   "cell_type": "markdown",
   "metadata": {},
   "source": [
    "### STANDARD DEVIATION\n",
    "\n",
    "How much does the data vary from the average? SD is a measure of <b>spread</b>, how spread out a set of data is. \n",
    "\n",
    "* A <b>low</b> SD means the data is closely clustered around the mean. \n",
    "* A <b>high</b> SD means the data is spread out over a wider range of values. \n",
    "\n",
    "SD is typically used to determine if a specific data point is \"standard and expected\" or \"unusual and unexpected\". A data points distance to the mean can be measured by the number of SD's it is above or below the mean... \n",
    "\n",
    "When thinking about outliers, we can set a predetermined cut-off point for what distance from the mean you deem unacceptable. There are a few commonly used cut-off points. A common cut off point is +/- 1.96 SD's from the mean (95% of values will be within +/- 1.96 SD's from the mean)\n",
    "\n",
    "#### 68 - 95 - 99.7 RULE\n",
    "\n",
    "When your data is normally distributed (bell curve), typically your data will fall within the following patterns: \n",
    "\n",
    "* 68% of the data falls within one SD of the mean\n",
    "\n",
    "* 95% of the data falls within 2 SD's of the mean\n",
    "\n",
    "* 99.7% of the data falls within 3 SD's of the mean\n",
    "\n",
    "\n",
    "![alt text](SD Bell Curve.jpeg \"Standard Deviation\")\n",
    "\n",
    "\n",
    "#### Example:\n",
    "\n",
    "The average weight of an American man is 175 lbs with a SD of 10 lbs. This means... \n",
    "\n",
    "* 68% of American men are between 165 and 185 lbs. \n",
    "* 95% of American men are between 155 and 195 lbs. \n",
    "* 99.7% of American men are between 145 and 205 lbs. \n",
    "\n",
    "\n",
    "### REMOVING OUTLIERS USING SD\n",
    "\n",
    "* Determine a cut-off point \n",
    "* Calculate mean, std, and the cut-off values\n",
    "* Drop all values that fall outside of this range "
   ]
  },
  {
   "cell_type": "code",
   "execution_count": 42,
   "metadata": {},
   "outputs": [
    {
     "name": "stdout",
     "output_type": "stream",
     "text": [
      "(1946, 8)\n"
     ]
    }
   ],
   "source": [
    "#Standard Deviation Method\n",
    "\n",
    "meangrade = df['grade'].mean() # what is the mean grade for the class?\n",
    "\n",
    "stdgrade = df['grade'].std() # what is the standard deviation of class grades?\n",
    "\n",
    "toprange = meangrade + (stdgrade * 1.96) # the top limit for grade, anything above this is considered an outlier\n",
    "botrange = meangrade - (stdgrade * 1.96) # the bottom limit for grade, anything below this is considered an outlier\n",
    "\n",
    "df2 = df #create a new dataset that won't mess up the original \n",
    "\n",
    "df2 = df2.drop(df2[df2['grade'] > toprange].index) # drop all values greater than the top limit\n",
    "df2 = df2.drop(df2[df2['grade'] < botrange].index) # drop all values less than the bottom limit\n",
    "\n",
    "print(df2.shape) #54 outliers dropped"
   ]
  },
  {
   "cell_type": "markdown",
   "metadata": {},
   "source": [
    "### INTERQUARTILE RANGE \n",
    "\n",
    "The Interquartile Range (IQR) is a measure of where the bulk of the data values lie. The IQR is the difference between the upper and lower quartiles in a data set. \n",
    "\n",
    "* <b>Quartiles:</b> the values that divide a list of numbers into quarters. \n",
    "\n",
    "* <b>Median:</b> the \"middle\" value in the list of numbers\n",
    "\n",
    "* <b>Percentile:</b> the value below which a given percentage of observations exists. For example, the 20th percentile is the value below which 20% of the observations are found; above which 80% of the observations can be found. \n",
    "\n",
    "In a given set of numbers, there are three values that divide the data into four sections. \n",
    "\n",
    "![alt text](IQR.png \"IQR\")\n",
    "\n",
    "\n",
    "#### Q1: Lower Quartile (25th percentile)\n",
    "The median of the lower half of the data\n",
    "\n",
    "\n",
    "#### Q2: Median (50th percentile)\n",
    "The median of the full set of data\n",
    "\n",
    "\n",
    "#### Q3: Upper Quartile (75th percentile)\n",
    "The median of the upper half of the data\n",
    "\n",
    "\n",
    "#### IQR\n",
    "Represents the middle 50% of the data and is calculated by the following formula: \n",
    "\n",
    "### IQR = Q3 - Q1 \n",
    "\n",
    "\n",
    "#### 1.5 RULE\n",
    "\n",
    "A commonly used rules of thumb says that a data point is an outlier if it is . . . \n",
    "\n",
    "* ... below Q1 - (1.5 x IQR)\n",
    "\n",
    "* ... above Q3 + (1.5 x IQR)\n",
    "\n",
    "\n",
    "#### Example:\n",
    "\n",
    "In a list of student absences {1, 3, 4, 6, 7, 7, 8, 8, 10, 12, 17}\n",
    "\n",
    "* Q1 = 4\n",
    "* Q2 = 7\n",
    "* Q3 = 10\n",
    "\n",
    "Q3(10) - Q1(4) = IQR = 6\n",
    "\n",
    "lower limit : 4 - 1.5(6) = <b>-5</b>\n",
    "\n",
    "upper limit : 10 + 1.5(6) = <b>19</b>\n",
    "\n",
    "Data values less than or greater than these cut-off points are considered outliers. There are no outliers in this example.  \n",
    "\n",
    "\n",
    "### REMOVING OUTLIERS USING IQR\n",
    "\n",
    "* Calculate quartiles\n",
    "* Calculate IQR\n",
    "* Determine upper and lower limits\n",
    "* Drop values less than the lower and/or greater than the upper"
   ]
  },
  {
   "cell_type": "code",
   "execution_count": 43,
   "metadata": {},
   "outputs": [
    {
     "name": "stdout",
     "output_type": "stream",
     "text": [
      "(1998, 8)\n"
     ]
    }
   ],
   "source": [
    "#Interquartile Range Method\n",
    "\n",
    "q1 = df['grade'].quantile(.25) #calculate Q1\n",
    "q3 = df['grade'].quantile(.75) #calculate Q3\n",
    "\n",
    "iqr = q3-q1 # calcualate the IQR\n",
    "\n",
    "toprange = q3 + iqr * 1.5 # determine the upper limit, values higher then this are outliers \n",
    "botrange = q1 - iqr * 1.5 # determine the lower limit, values lower than this are outliers\n",
    "\n",
    "df3 = df\n",
    "\n",
    "df3 = df3.drop(df3[df3['grade'] > toprange].index) #drop grades higher than the top range\n",
    "df3 = df3.drop(df3[df3['grade'] < botrange].index) #drop grades lower than the bottom range\n",
    "\n",
    "print(df3.shape) #2 outliers dropped"
   ]
  },
  {
   "cell_type": "code",
   "execution_count": null,
   "metadata": {},
   "outputs": [],
   "source": []
  }
 ],
 "metadata": {
  "kernelspec": {
   "display_name": "Python 3",
   "language": "python",
   "name": "python3"
  },
  "language_info": {
   "codemirror_mode": {
    "name": "ipython",
    "version": 3
   },
   "file_extension": ".py",
   "mimetype": "text/x-python",
   "name": "python",
   "nbconvert_exporter": "python",
   "pygments_lexer": "ipython3",
   "version": "3.7.4"
  }
 },
 "nbformat": 4,
 "nbformat_minor": 2
}
